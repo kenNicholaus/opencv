{
 "cells": [
  {
   "cell_type": "code",
   "execution_count": 3,
   "metadata": {},
   "outputs": [],
   "source": [
    "import cv2\n",
    "import matplotlib.pyplot as plt\n",
    "\n",
    "def main():\n",
    "    \n",
    "    path = \"D:\\\\kenneth\\\\opencv\\\\dataset\\\\\"\n",
    "    \n",
    "    imgpath1 =  path + \"4.1.04.tiff\"\n",
    "    imgpath2 =  path + \"4.1.01.tiff\"\n",
    "    \n",
    "    img1 = cv2.imread(imgpath1, 1)\n",
    "#    img2 = cv2.imread(imgpath2, 1)\n",
    "    \n",
    "#    img1 = cv2.cvtColor(img1, cv2.COLOR_BGR2RGB)\n",
    "#    img2 = cv2.cvtColor(img2, cv2.COLOR_BGR2RGB)\n",
    "    \n",
    "    output = cv2.resize(img1, None, fx=0.3, fy=0.3, interpolation=cv2.INTER_CUBIC)\n",
    "    \n",
    "    titles = ['Image 1', 'Resized']\n",
    "    images = [img1, output]\n",
    "    \n",
    "    cv2.imshow('original', img1)\n",
    "    cv2.imshow('Upscale', output)\n",
    "    cv2.waitKey(0)\n",
    "    cv2.destroyAllWindows()\n",
    " \n",
    "if __name__ == \"__main__\":\n",
    "    main()"
   ]
  },
  {
   "cell_type": "code",
   "execution_count": null,
   "metadata": {},
   "outputs": [],
   "source": []
  }
 ],
 "metadata": {
  "kernelspec": {
   "display_name": "Python [conda env:opencv3]",
   "language": "python",
   "name": "conda-env-opencv3-py"
  },
  "language_info": {
   "codemirror_mode": {
    "name": "ipython",
    "version": 3
   },
   "file_extension": ".py",
   "mimetype": "text/x-python",
   "name": "python",
   "nbconvert_exporter": "python",
   "pygments_lexer": "ipython3",
   "version": "3.5.5"
  }
 },
 "nbformat": 4,
 "nbformat_minor": 2
}
