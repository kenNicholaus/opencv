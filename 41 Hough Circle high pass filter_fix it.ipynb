{
 "cells": [
  {
   "cell_type": "code",
   "execution_count": 1,
   "metadata": {},
   "outputs": [],
   "source": [
    "import cv2\n",
    "import numpy as np\n",
    "\n",
    "\n",
    "def main():\n",
    "    \n",
    "    windowName = \"Preview\"\n",
    "    cv2.namedWindow(windowName)\n",
    "    cap = cv2.VideoCapture(0)\n",
    "    \n",
    "    if cap.isOpened():\n",
    "        ret, frame = cap.read()\n",
    "    else:\n",
    "        ret = False\n",
    "\n",
    "\n",
    "    while ret:\n",
    "    \n",
    "        ret, frame = cap.read()\n",
    "        \n",
    "        grey = cv2.cvtColor(frame, cv2.COLOR_BGR2GRAY)\n",
    "        blur = cv2.blur(frame, (15, 15))\n",
    "\n",
    "#        circles = cv2.HoughCircles(blur, method=cv2.cv.CV_HOUGH_GRADIENT,\n",
    "#                                   dp=1, minDist=200, param1=50, param2=13,\n",
    "#                                   minRadius=30, maxRadius=175)\n",
    "        \n",
    "        cv2.imshow(windowName, blur)\n",
    "\n",
    "        if cv2.waitKey(1) == 27: # exit on ESC\n",
    "            break\n",
    "\n",
    "    cv2.destroyAllWindows()\n",
    "    cap.release()\n",
    "\n",
    "if __name__ == \"__main__\":\n",
    "    main()"
   ]
  },
  {
   "cell_type": "code",
   "execution_count": null,
   "metadata": {},
   "outputs": [],
   "source": []
  }
 ],
 "metadata": {
  "kernelspec": {
   "display_name": "Python [conda env:opencv3]",
   "language": "python",
   "name": "conda-env-opencv3-py"
  },
  "language_info": {
   "codemirror_mode": {
    "name": "ipython",
    "version": 3
   },
   "file_extension": ".py",
   "mimetype": "text/x-python",
   "name": "python",
   "nbconvert_exporter": "python",
   "pygments_lexer": "ipython3",
   "version": "3.5.5"
  }
 },
 "nbformat": 4,
 "nbformat_minor": 2
}
