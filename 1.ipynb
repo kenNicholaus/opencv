{
 "cells": [
  {
   "cell_type": "code",
   "execution_count": 3,
   "metadata": {},
   "outputs": [],
   "source": [
    "#load an image and display an image\n",
    "import cv2\n",
    "def main():\n",
    "    imgpath='C:\\\\Users\\\\kenneth\\\\opencv\\\\dataset\\\\7.1.09.tiff'\n",
    "    img=cv2.imread(imgpath)\n",
    "    #to create a named window\n",
    "    cv2.namedWindow('lena', cv2.WINDOW_AUTOSIZE)\n",
    "    cv2.imshow('lena',img)\n",
    "    #to bind keyboard with cv2 method\n",
    "    cv2.waitKey(0)\n",
    "    cv2.destroyAllWindows()\n",
    "    #to destroy named window\n",
    "    #cv2.destroyWindows('lena')\n",
    "   \n",
    "    \n",
    "if __name__ == \"__main__\":\n",
    "    main()"
   ]
  },
  {
   "cell_type": "code",
   "execution_count": null,
   "metadata": {},
   "outputs": [],
   "source": []
  },
  {
   "cell_type": "code",
   "execution_count": null,
   "metadata": {},
   "outputs": [],
   "source": []
  }
 ],
 "metadata": {
  "kernelspec": {
   "display_name": "Python [conda env:opencv3]",
   "language": "python",
   "name": "conda-env-opencv3-py"
  },
  "language_info": {
   "codemirror_mode": {
    "name": "ipython",
    "version": 3
   },
   "file_extension": ".py",
   "mimetype": "text/x-python",
   "name": "python",
   "nbconvert_exporter": "python",
   "pygments_lexer": "ipython3",
   "version": "3.5.5"
  }
 },
 "nbformat": 4,
 "nbformat_minor": 2
}
