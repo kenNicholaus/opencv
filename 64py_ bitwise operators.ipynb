{
 "cells": [
  {
   "cell_type": "code",
   "execution_count": 1,
   "metadata": {},
   "outputs": [],
   "source": [
    "import cv2\n",
    "import numpy as np\n",
    " \n",
    "img1 = cv2.imread(\"drawing_1.png\")\n",
    "img2 = cv2.imread(\"drawing_2.png\")\n",
    " \n",
    "bit_and = cv2.bitwise_and(img2, img1)\n",
    "bit_or = cv2.bitwise_or(img2, img1)\n",
    "bit_xor = cv2.bitwise_xor(img1, img2)\n",
    "bit_not = cv2.bitwise_not(img1)\n",
    "bit_not2 = cv2.bitwise_not(img2)\n",
    " \n",
    " \n",
    "cv2.imshow(\"img1\", img1)\n",
    "cv2.imshow(\"img2\", img2)\n",
    " \n",
    "cv2.imshow(\"bit_and\", bit_and)\n",
    "cv2.imshow(\"bit_or\", bit_or)\n",
    "cv2.imshow(\"bit_xor\", bit_xor)\n",
    "cv2.imshow(\"bit_not\", bit_not)\n",
    "cv2.imshow(\"bit_not2\", bit_not2)\n",
    " \n",
    " \n",
    "cv2.waitKey(0)\n",
    "cv2.destroyAllWindows()"
   ]
  },
  {
   "cell_type": "code",
   "execution_count": null,
   "metadata": {},
   "outputs": [],
   "source": []
  }
 ],
 "metadata": {
  "kernelspec": {
   "display_name": "Python [conda env:opencv3]",
   "language": "python",
   "name": "conda-env-opencv3-py"
  },
  "language_info": {
   "codemirror_mode": {
    "name": "ipython",
    "version": 3
   },
   "file_extension": ".py",
   "mimetype": "text/x-python",
   "name": "python",
   "nbconvert_exporter": "python",
   "pygments_lexer": "ipython3",
   "version": "3.5.5"
  }
 },
 "nbformat": 4,
 "nbformat_minor": 2
}
