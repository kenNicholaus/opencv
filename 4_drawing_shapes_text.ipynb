{
 "cells": [
  {
   "cell_type": "code",
   "execution_count": 1,
   "metadata": {},
   "outputs": [],
   "source": [
    "import cv2\n",
    "import numpy as np\n",
    "#image representation in a computer system\n",
    "def main():\n",
    "    #0 is black color\n",
    "    img=np.zeros((256,256,3),np.uint8)\n",
    "    cv2.line(img, (0,99),(99,0),(255,0,0),2)\n",
    "    cv2.rectangle(img, (40,60),(80,70),(0,255,0),2)\n",
    "    #-1 will fill up entire circle\n",
    "    cv2.circle(img, (60,60),10,(0,0,255),-1)\n",
    "    cv2.ellipse(img, (100, 100),(30,20),0,0,360,(127,127,127),-1)\n",
    "    #for drawing polygon\n",
    "    points = np.array([[0,2],[40,10],[80,19],[120,40],[130,50]],np.int32)\n",
    "    points=points.reshape((-1,1,2))\n",
    "    cv2.polylines(img, [points], True, (0,255,255))\n",
    "    # for text\n",
    "    text='Whats up'\n",
    "    cv2.putText(img,text, (40,40),cv2.FONT_HERSHEY_SIMPLEX,1,(255,255,0))\n",
    "#     imgpath='C:\\\\Users\\\\ken\\\\opencv\\\\dataset\\\\4.1.03.tiff'\n",
    "#     img=cv2.imread(imgpath, 0)\n",
    "#     print(img)\n",
    "#     print(type(img))\n",
    "#     print(img.dtype)\n",
    "#     print(img.shape)\n",
    "#     print(img.ndim)\n",
    "#     print(img.size)\n",
    "    cv2.imshow('lena',img)\n",
    "    cv2.waitKey(0)\n",
    "    cv2.destroyAllWindows()\n",
    "    \n",
    "    \n",
    "if __name__ == \"__main__\":\n",
    "    main()"
   ]
  },
  {
   "cell_type": "code",
   "execution_count": null,
   "metadata": {},
   "outputs": [],
   "source": []
  },
  {
   "cell_type": "code",
   "execution_count": null,
   "metadata": {},
   "outputs": [],
   "source": []
  }
 ],
 "metadata": {
  "kernelspec": {
   "display_name": "Python [conda env:opencv3]",
   "language": "python",
   "name": "conda-env-opencv3-py"
  },
  "language_info": {
   "codemirror_mode": {
    "name": "ipython",
    "version": 3
   },
   "file_extension": ".py",
   "mimetype": "text/x-python",
   "name": "python",
   "nbconvert_exporter": "python",
   "pygments_lexer": "ipython3",
   "version": "3.5.5"
  }
 },
 "nbformat": 4,
 "nbformat_minor": 2
}
