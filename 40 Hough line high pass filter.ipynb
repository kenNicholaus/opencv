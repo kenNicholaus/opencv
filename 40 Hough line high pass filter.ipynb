{
 "cells": [
  {
   "cell_type": "code",
   "execution_count": 1,
   "metadata": {},
   "outputs": [],
   "source": [
    "import cv2\n",
    "import numpy as np\n",
    "\n",
    "\n",
    "def main():\n",
    "    \n",
    "    windowName = \"Preview\"\n",
    "    cv2.namedWindow(windowName)\n",
    "    cap = cv2.VideoCapture(0)\n",
    "    \n",
    "    if cap.isOpened():\n",
    "        ret, frame = cap.read()\n",
    "    else:\n",
    "        ret = False\n",
    "\n",
    "\n",
    "    while ret:\n",
    "    \n",
    "        ret, frame = cap.read()\n",
    "        \n",
    "        grey = cv2.cvtColor(frame, cv2.COLOR_BGR2GRAY)\n",
    "        edges = cv2.Canny(grey, 50, 250, apertureSize=5, L2gradient=True)\n",
    "        \n",
    "        lines = cv2.HoughLines(edges, 1, np.pi/180, 250)\n",
    "        \n",
    "        if lines is not None:\n",
    "            for rho, theta in lines[0]:\n",
    "                    a = np.cos(theta)\n",
    "                    b = np.sin(theta)\n",
    "                    x0 = a*rho\n",
    "                    y0 = b*rho\n",
    "                    x1 = int(x0 + 1000*(-b))\n",
    "                    y1 = int(y0 + 1000*(a))\n",
    "                    x2 = int(x0 - 1000*(-b))\n",
    "                    y2 = int(y0 - 1000*(a))\n",
    "\n",
    "                    cv2.line(frame, (x1, y1), (x2, y2), (0, 0, 255), 2)\n",
    "        \n",
    "        cv2.imshow(windowName, frame)\n",
    "\n",
    "        if cv2.waitKey(1) == 27: # exit on ESC\n",
    "            break\n",
    "\n",
    "    cv2.destroyAllWindows()\n",
    "    cap.release()\n",
    "\n",
    "if __name__ == \"__main__\":\n",
    "    main()"
   ]
  }
 ],
 "metadata": {
  "kernelspec": {
   "display_name": "Python [conda env:opencv3]",
   "language": "python",
   "name": "conda-env-opencv3-py"
  },
  "language_info": {
   "codemirror_mode": {
    "name": "ipython",
    "version": 3
   },
   "file_extension": ".py",
   "mimetype": "text/x-python",
   "name": "python",
   "nbconvert_exporter": "python",
   "pygments_lexer": "ipython3",
   "version": "3.5.5"
  }
 },
 "nbformat": 4,
 "nbformat_minor": 2
}
