{
 "cells": [
  {
   "cell_type": "code",
   "execution_count": 1,
   "metadata": {},
   "outputs": [],
   "source": [
    "import cv2"
   ]
  },
  {
   "cell_type": "code",
   "execution_count": 2,
   "metadata": {},
   "outputs": [
    {
     "name": "stdout",
     "output_type": "stream",
     "text": [
      "['EVENT_FLAG_ALTKEY', 'EVENT_FLAG_CTRLKEY', 'EVENT_FLAG_LBUTTON', 'EVENT_FLAG_MBUTTON', 'EVENT_FLAG_RBUTTON', 'EVENT_FLAG_SHIFTKEY', 'EVENT_LBUTTONDBLCLK', 'EVENT_LBUTTONDOWN', 'EVENT_LBUTTONUP', 'EVENT_MBUTTONDBLCLK', 'EVENT_MBUTTONDOWN', 'EVENT_MBUTTONUP', 'EVENT_MOUSEHWHEEL', 'EVENT_MOUSEMOVE', 'EVENT_MOUSEWHEEL', 'EVENT_RBUTTONDBLCLK', 'EVENT_RBUTTONDOWN', 'EVENT_RBUTTONUP']\n"
     ]
    }
   ],
   "source": [
    "\n",
    "def main():\n",
    "    events = [i for i in dir(cv2) if 'EVENT' in i]\n",
    "    print(events)\n",
    "    \n",
    "if __name__ == \"__main__\":\n",
    "    main()"
   ]
  },
  {
   "cell_type": "code",
   "execution_count": 6,
   "metadata": {},
   "outputs": [],
   "source": [
    "#double click the mouse to make circles\n",
    "import numpy as np\n",
    "windowName = 'Drawing'\n",
    "img = np.zeros((256,256,3), np.uint8)\n",
    "cv2.namedWindow(windowName)\n",
    "\n",
    "#mouse callback  function\n",
    "def draw_circle(event, x, y, flags, param):\n",
    "    if event == cv2.EVENT_LBUTTONDBLCLK:\n",
    "        cv2.circle(img, (x,y), 20, (0, 255, 0), -1)\n",
    "        \n",
    "#bind the callback function to window\n",
    "cv2.setMouseCallback(windowName, draw_circle)\n",
    "\n",
    "def main():\n",
    "    while(True):\n",
    "        cv2.imshow(windowName, img)\n",
    "        if cv2.waitKey(20) == 27:\n",
    "            break\n",
    "    \n",
    "    cv2.destroyAllWindows()\n",
    "    \n",
    "if __name__ == '__main__':\n",
    "    main()"
   ]
  },
  {
   "cell_type": "code",
   "execution_count": 7,
   "metadata": {},
   "outputs": [],
   "source": [
    "#double click the mouse to make circles\n",
    "#click left button down to make a circle\n",
    "import numpy as np\n",
    "windowName = 'Drawing'\n",
    "img = np.zeros((256,256,3), np.uint8)\n",
    "cv2.namedWindow(windowName)\n",
    "\n",
    "#mouse callback  function\n",
    "def draw_circle(event, x, y, flags, param):\n",
    "    if event == cv2.EVENT_LBUTTONDBLCLK:\n",
    "        cv2.circle(img, (x,y), 20, (0, 255, 0), -1)\n",
    "    if event == cv2.EVENT_LBUTTONDOWN:\n",
    "        cv2.circle(img, (x,y), 10, (0, 0, 255), -1)\n",
    "        \n",
    "#bind the callback function to window\n",
    "cv2.setMouseCallback(windowName, draw_circle)\n",
    "\n",
    "def main():\n",
    "    while(True):\n",
    "        cv2.imshow(windowName, img)\n",
    "        if cv2.waitKey(20) == 27:\n",
    "            break\n",
    "    \n",
    "    cv2.destroyAllWindows()\n",
    "    \n",
    "if __name__ == '__main__':\n",
    "    main()"
   ]
  },
  {
   "cell_type": "code",
   "execution_count": 8,
   "metadata": {},
   "outputs": [],
   "source": [
    "#more complex press 'm' key to change the mode to draw rectangle, otherwise you can dreaw any shape\n",
    "import cv2 \n",
    "import numpy as np\n",
    "windowName = 'Drawing_Demo'\n",
    "img = np.zeros((256,256,3), np.uint8)\n",
    "cv2.namedWindow(windowName)\n",
    "\n",
    "#True if mouse is pressed\n",
    "drawing = False\n",
    "\n",
    "# if true, draw rectangle. Press 'm' to toggle to curve\n",
    "mode = True\n",
    "(ix, iy) = (-1, -1)\n",
    "\n",
    "def draw_shape(event, x, y, flags, param):\n",
    "    global ix, iy, drawing, mode\n",
    "    \n",
    "    if event == cv2.EVENT_LBUTTONDOWN:\n",
    "        drawing = True\n",
    "        (ix, iy) = x, y\n",
    "        \n",
    "    elif event == cv2.EVENT_MOUSEMOVE:\n",
    "        if drawing == True:\n",
    "            if mode == True:\n",
    "                cv2.rectangle(img, (ix, iy), (x, y), (0,255,0), -1)\n",
    "            else:\n",
    "                cv2.circle(img, (x, y), 5, (0, 0, 255), -1)\n",
    "                \n",
    "    elif event == cv2.EVENT_LBUTTONUP:\n",
    "        drawing = False\n",
    "        if mode == True:\n",
    "            cv2.rectangle(img, (ix, iy), (x,y), (0,255,0), -1)\n",
    "        else:\n",
    "            cv2.circle(img, (x, y), 5, (0,0,255), -1)\n",
    "    \n",
    "        \n",
    "#bind the callback function to window\n",
    "cv2.setMouseCallback(windowName, draw_shape)\n",
    "\n",
    "def main():\n",
    "    global mode\n",
    "    \n",
    "    while(True):\n",
    "        cv2.imshow(windowName, img)\n",
    "        \n",
    "        k = cv2.waitKey(1)\n",
    "        if k == ord('m') or k == ord('M'):\n",
    "            mode = not mode\n",
    "        elif k == 27:\n",
    "        \n",
    "            break\n",
    "    \n",
    "    cv2.destroyAllWindows()\n",
    "    \n",
    "if __name__ == '__main__':\n",
    "    main()"
   ]
  },
  {
   "cell_type": "code",
   "execution_count": null,
   "metadata": {},
   "outputs": [],
   "source": []
  }
 ],
 "metadata": {
  "kernelspec": {
   "display_name": "Python [conda env:opencv3]",
   "language": "python",
   "name": "conda-env-opencv3-py"
  },
  "language_info": {
   "codemirror_mode": {
    "name": "ipython",
    "version": 3
   },
   "file_extension": ".py",
   "mimetype": "text/x-python",
   "name": "python",
   "nbconvert_exporter": "python",
   "pygments_lexer": "ipython3",
   "version": "3.5.5"
  }
 },
 "nbformat": 4,
 "nbformat_minor": 2
}
