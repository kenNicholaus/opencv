{
 "cells": [
  {
   "cell_type": "code",
   "execution_count": 1,
   "metadata": {},
   "outputs": [],
   "source": [
    "import cv2\n",
    "import numpy as np\n",
    "\n",
    "def main():\n",
    "    \n",
    "    w = 800\n",
    "    h = 600\n",
    "    \n",
    "    \n",
    "    cap = cv2.VideoCapture(0)\n",
    "    \n",
    "    cap.set(3, w)\n",
    "    cap.set(4, h)\n",
    "    \n",
    "    if cap.isOpened():\n",
    "        ret, frame = cap.read()\n",
    "    else:\n",
    "        ret = False\n",
    "\n",
    "\n",
    "    while ret:\n",
    "    \n",
    "        ret, frame = cap.read()\n",
    "    \n",
    "        (B, G, R) = cv2.split(frame)\n",
    " \n",
    "        M = np.maximum(np.maximum(R, G), B)\n",
    "        R[R < M] = 0\n",
    "        G[G < M] = 0\n",
    "        B[B < M] = 0\n",
    "\n",
    "        output = cv2.merge((B, G, R))\n",
    "    \n",
    "        cv2.imshow(\"Original\", output)\n",
    "\n",
    "        if cv2.waitKey(1) == 27: # exit on ESC\n",
    "            break\n",
    "\n",
    "    cv2.destroyAllWindows()\n",
    "    cap.release()\n",
    "\n",
    "if __name__ == \"__main__\":\n",
    "    main()"
   ]
  },
  {
   "cell_type": "code",
   "execution_count": null,
   "metadata": {},
   "outputs": [],
   "source": []
  }
 ],
 "metadata": {
  "kernelspec": {
   "display_name": "Python [conda env:opencv3]",
   "language": "python",
   "name": "conda-env-opencv3-py"
  },
  "language_info": {
   "codemirror_mode": {
    "name": "ipython",
    "version": 3
   },
   "file_extension": ".py",
   "mimetype": "text/x-python",
   "name": "python",
   "nbconvert_exporter": "python",
   "pygments_lexer": "ipython3",
   "version": "3.5.5"
  }
 },
 "nbformat": 4,
 "nbformat_minor": 2
}
