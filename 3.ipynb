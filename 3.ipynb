{
 "cells": [
  {
   "cell_type": "code",
   "execution_count": 3,
   "metadata": {},
   "outputs": [],
   "source": [
    "import cv2"
   ]
  },
  {
   "cell_type": "code",
   "execution_count": 4,
   "metadata": {},
   "outputs": [
    {
     "name": "stdout",
     "output_type": "stream",
     "text": [
      "[[254 254 254 ... 254 254 254]\n",
      " [254 254 254 ... 216 218 217]\n",
      " [222 223 224 ... 230 229 229]\n",
      " ...\n",
      " [254 255 255 ... 255 255 254]\n",
      " [254 255 255 ... 255 255 255]\n",
      " [254 254 255 ... 255 255 255]]\n",
      "<class 'numpy.ndarray'>\n",
      "uint8\n",
      "(256, 256)\n",
      "2\n",
      "65536\n"
     ]
    }
   ],
   "source": [
    "#image representation in a computer system\n",
    "def main():\n",
    "    imgpath='C:\\\\Users\\\\kenneth\\\\opencv\\\\dataset\\\\4.1.03.tiff'\n",
    "    img=cv2.imread(imgpath, 0)\n",
    "    print(img)\n",
    "    print(type(img))\n",
    "    print(img.dtype)\n",
    "    print(img.shape)\n",
    "    print(img.ndim)\n",
    "    print(img.size)\n",
    "#     cv2.imshow('lena',img)\n",
    "#     cv2.waitKey(0)\n",
    "#     cv2.destroyAllWindows()\n",
    "    \n",
    "    \n",
    "if __name__ == \"__main__\":\n",
    "    main()"
   ]
  },
  {
   "cell_type": "code",
   "execution_count": null,
   "metadata": {},
   "outputs": [],
   "source": []
  },
  {
   "cell_type": "code",
   "execution_count": null,
   "metadata": {},
   "outputs": [],
   "source": []
  }
 ],
 "metadata": {
  "kernelspec": {
   "display_name": "Python [conda env:opencv3]",
   "language": "python",
   "name": "conda-env-opencv3-py"
  },
  "language_info": {
   "codemirror_mode": {
    "name": "ipython",
    "version": 3
   },
   "file_extension": ".py",
   "mimetype": "text/x-python",
   "name": "python",
   "nbconvert_exporter": "python",
   "pygments_lexer": "ipython3",
   "version": "3.5.5"
  }
 },
 "nbformat": 4,
 "nbformat_minor": 2
}
