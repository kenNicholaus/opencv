{
 "cells": [
  {
   "cell_type": "code",
   "execution_count": 7,
   "metadata": {},
   "outputs": [],
   "source": [
    "import cv2\n",
    "\n",
    "def main():\n",
    "    \n",
    "    windowName = ['Binary', 'Binary Inv', 'Zero', 'Zero Inv', 'Trunc']\n",
    "    \n",
    "    cap = cv2.VideoCapture(0)\n",
    "    \n",
    "    if cap.isOpened():\n",
    "        ret, frame = cap.read()\n",
    "    else:\n",
    "        ret = False\n",
    "\n",
    "\n",
    "    while ret:\n",
    "    \n",
    "        ret, frame = cap.read()\n",
    "        \n",
    "        th = 127\n",
    "        max_val = 255\n",
    "    \n",
    "        ret, o1 = cv2.threshold(frame, th, max_val, cv2.THRESH_BINARY)\n",
    "        ret, o2 = cv2.threshold(frame, th, max_val, cv2.THRESH_BINARY_INV)\n",
    "        ret, o3 = cv2.threshold(frame, th, max_val, cv2.THRESH_TOZERO)\n",
    "        ret, o4 = cv2.threshold(frame, th, max_val, cv2.THRESH_TOZERO_INV)\n",
    "        ret, o5 = cv2.threshold(frame, th, max_val, cv2.THRESH_TRUNC)\n",
    "        \n",
    "        cv2.imshow(windowName[0], o1)\n",
    "        cv2.imshow(windowName[1], o2)\n",
    "        cv2.imshow(windowName[2], o3)\n",
    "        cv2.imshow(windowName[3], o4)\n",
    "        cv2.imshow(windowName[4], o5)\n",
    "        if cv2.waitKey(1) == 27:\n",
    "            break\n",
    "\n",
    "    cv2.destroyAllWindows()\n",
    "    cap.release()\n",
    "\n",
    "if __name__ == \"__main__\":\n",
    "    main()"
   ]
  },
  {
   "cell_type": "code",
   "execution_count": null,
   "metadata": {},
   "outputs": [],
   "source": []
  }
 ],
 "metadata": {
  "kernelspec": {
   "display_name": "Python [conda env:opencv3]",
   "language": "python",
   "name": "conda-env-opencv3-py"
  },
  "language_info": {
   "codemirror_mode": {
    "name": "ipython",
    "version": 3
   },
   "file_extension": ".py",
   "mimetype": "text/x-python",
   "name": "python",
   "nbconvert_exporter": "python",
   "pygments_lexer": "ipython3",
   "version": "3.5.5"
  }
 },
 "nbformat": 4,
 "nbformat_minor": 2
}
