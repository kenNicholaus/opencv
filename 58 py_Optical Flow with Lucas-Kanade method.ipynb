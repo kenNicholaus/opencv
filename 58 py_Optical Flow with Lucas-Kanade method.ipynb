{
 "cells": [
  {
   "cell_type": "code",
   "execution_count": 4,
   "metadata": {},
   "outputs": [],
   "source": [
    "import cv2\n",
    "import numpy as np\n",
    " \n",
    "cap = cv2.VideoCapture(0)\n",
    " \n",
    "# Create old frame\n",
    "_, frame = cap.read()\n",
    "old_gray = cv2.cvtColor(frame, cv2.COLOR_BGR2GRAY)\n",
    " \n",
    "# Lucas kanade params\n",
    "lk_params = dict(winSize = (15, 15),\n",
    "                 maxLevel = 4,\n",
    "                 criteria = (cv2.TERM_CRITERIA_EPS | cv2.TERM_CRITERIA_COUNT, 10, 0.03))\n",
    " \n",
    "# Mouse function\n",
    "def select_point(event, x, y, flags, params):\n",
    "    global point, point_selected, old_points\n",
    "    if event == cv2.EVENT_LBUTTONDOWN:\n",
    "        point = (x, y)\n",
    "        point_selected = True\n",
    "        old_points = np.array([[x, y]], dtype=np.float32)\n",
    " \n",
    "cv2.namedWindow(\"Frame\")\n",
    "cv2.setMouseCallback(\"Frame\", select_point)\n",
    " \n",
    "point_selected = False\n",
    "point = ()\n",
    "old_points = np.array([[]])\n",
    "while True:\n",
    "    _, frame = cap.read()\n",
    "    gray_frame = cv2.cvtColor(frame, cv2.COLOR_BGR2GRAY)\n",
    " \n",
    "    if point_selected is True:\n",
    "        cv2.circle(frame, point, 5, (0, 0, 255), 2)\n",
    " \n",
    "        new_points, status, error = cv2.calcOpticalFlowPyrLK(old_gray, gray_frame, old_points, None, **lk_params)\n",
    "        old_gray = gray_frame.copy()\n",
    "        old_points = new_points\n",
    " \n",
    "        x, y = new_points.ravel()\n",
    "        cv2.circle(frame, (x, y), 5, (0, 255, 0), -1)\n",
    " \n",
    " \n",
    " \n",
    "    cv2.imshow(\"Frame\", frame)\n",
    " \n",
    "    key = cv2.waitKey(1)\n",
    "    if key == 27:\n",
    "        break\n",
    " \n",
    "cap.release()\n",
    "cv2.destroyAllWindows()"
   ]
  },
  {
   "cell_type": "code",
   "execution_count": null,
   "metadata": {},
   "outputs": [],
   "source": []
  }
 ],
 "metadata": {
  "kernelspec": {
   "display_name": "Python [conda env:opencv3]",
   "language": "python",
   "name": "conda-env-opencv3-py"
  },
  "language_info": {
   "codemirror_mode": {
    "name": "ipython",
    "version": 3
   },
   "file_extension": ".py",
   "mimetype": "text/x-python",
   "name": "python",
   "nbconvert_exporter": "python",
   "pygments_lexer": "ipython3",
   "version": "3.5.5"
  }
 },
 "nbformat": 4,
 "nbformat_minor": 2
}
