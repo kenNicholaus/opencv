{
 "cells": [
  {
   "cell_type": "code",
   "execution_count": 9,
   "metadata": {},
   "outputs": [],
   "source": [
    "import cv2\n",
    "\n",
    "def main():\n",
    "    \n",
    "    windowName = ['Original', 'L1 Canny filter', 'L2 Cany filter','Laplacian']\n",
    "    \n",
    "    cap = cv2.VideoCapture(0)\n",
    "    \n",
    "    if cap.isOpened():\n",
    "        ret, frame = cap.read()\n",
    "    else:\n",
    "        ret = False\n",
    "\n",
    "\n",
    "    while ret:\n",
    "    \n",
    "        ret, frame = cap.read()\n",
    "        \n",
    "        \n",
    "        L1 = cv2.Canny(frame, 50, 300, L2gradient=False)\n",
    "    \n",
    "        L2 = cv2.Canny(frame, 100, 150, L2gradient=True)\n",
    "        \n",
    "        edges = cv2.Laplacian(frame, -1, ksize=5, scale=1, delta=0, \n",
    "                          borderType=cv2.BORDER_DEFAULT)\n",
    "\n",
    "  \n",
    "        \n",
    "        outputs = [frame, L1, L2, edges]\n",
    "        \n",
    "        \n",
    "        cv2.imshow(windowName[0], frame)\n",
    "        cv2.imshow(windowName[1],L1)\n",
    "        cv2.imshow(windowName[2], L2)\n",
    "        cv2.imshow(windowName[3], edges)\n",
    "        \n",
    "        if cv2.waitKey(1) == 27:\n",
    "            break\n",
    "\n",
    "    cv2.destroyAllWindows()\n",
    "    cap.release()\n",
    "\n",
    "if __name__ == \"__main__\":\n",
    "    main()"
   ]
  },
  {
   "cell_type": "code",
   "execution_count": null,
   "metadata": {},
   "outputs": [],
   "source": []
  }
 ],
 "metadata": {
  "kernelspec": {
   "display_name": "Python [conda env:opencv3]",
   "language": "python",
   "name": "conda-env-opencv3-py"
  },
  "language_info": {
   "codemirror_mode": {
    "name": "ipython",
    "version": 3
   },
   "file_extension": ".py",
   "mimetype": "text/x-python",
   "name": "python",
   "nbconvert_exporter": "python",
   "pygments_lexer": "ipython3",
   "version": "3.5.5"
  }
 },
 "nbformat": 4,
 "nbformat_minor": 2
}
