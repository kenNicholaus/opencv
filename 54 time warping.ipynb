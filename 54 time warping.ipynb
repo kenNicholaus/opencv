{
 "cells": [
  {
   "cell_type": "code",
   "execution_count": null,
   "metadata": {},
   "outputs": [],
   "source": [
    "import cv2\n",
    "import matplotlib.pyplot as plt\n",
    "import numpy as np\n",
    "\n",
    "def main():\n",
    "    \n",
    "    path = \"C:\\\\Users\\\\kenneth\\\\opencv\\\\dataset\\\\\"\n",
    "    \n",
    "    imgpath2 =  \"D:\\\\Users\\\\kenneth\\\\opencv\\\\dataset\\\\4.1.04.tiff\"\n",
    "   \n",
    "    imgpath1 = \"C:\\time\\cover\\\\img_001\""
   ]
  }
 ],
 "metadata": {
  "kernelspec": {
   "display_name": "Python [conda env:opencv3]",
   "language": "python",
   "name": "conda-env-opencv3-py"
  },
  "language_info": {
   "codemirror_mode": {
    "name": "ipython",
    "version": 3
   },
   "file_extension": ".py",
   "mimetype": "text/x-python",
   "name": "python",
   "nbconvert_exporter": "python",
   "pygments_lexer": "ipython3",
   "version": "3.5.5"
  }
 },
 "nbformat": 4,
 "nbformat_minor": 2
}
