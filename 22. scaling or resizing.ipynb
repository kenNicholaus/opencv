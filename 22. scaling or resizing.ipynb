{
 "cells": [
  {
   "cell_type": "code",
   "execution_count": 2,
   "metadata": {},
   "outputs": [],
   "source": [
    "import cv2\n",
    "#interpolation method\n",
    "#inter linear, inter nearest, inter_area(shrinking), inter_cubic(zooming 4X4 pixel area), inter_lanczos4(8X8 pixel area))\n",
    "\n",
    "def main():\n",
    "    \n",
    "    path = \"C:\\\\Users\\\\kenneth\\\\opencv\\\\dataset\\\\\"\n",
    "    \n",
    "    imgpath1 =  path + \"4.1.04.tiff\"\n",
    "    imgpath2 =  path + \"4.1.01.tiff\"\n",
    "    img1 = cv2.imread(imgpath1, 1)\n",
    "\n",
    "    \n",
    "    output = cv2.resize( img1, None, fx=0.8, fy=1.2, interpolation=cv2.INTER_AREA )\n",
    "   \n",
    "    \n",
    "    cv2.imshow('Output', output)\n",
    "    cv2.waitKey(0)\n",
    "    cv2.destroyAllWindows()\n",
    " \n",
    "if __name__ == \"__main__\":\n",
    "    main()"
   ]
  },
  {
   "cell_type": "code",
   "execution_count": null,
   "metadata": {},
   "outputs": [],
   "source": []
  }
 ],
 "metadata": {
  "kernelspec": {
   "display_name": "Python [conda env:opencv3]",
   "language": "python",
   "name": "conda-env-opencv3-py"
  },
  "language_info": {
   "codemirror_mode": {
    "name": "ipython",
    "version": 3
   },
   "file_extension": ".py",
   "mimetype": "text/x-python",
   "name": "python",
   "nbconvert_exporter": "python",
   "pygments_lexer": "ipython3",
   "version": "3.5.5"
  }
 },
 "nbformat": 4,
 "nbformat_minor": 2
}
