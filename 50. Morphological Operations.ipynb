{
 "cells": [
  {
   "cell_type": "code",
   "execution_count": 2,
   "metadata": {},
   "outputs": [
    {
     "name": "stdout",
     "output_type": "stream",
     "text": [
      "[[0 0 1 0 0]\n",
      " [0 0 1 0 0]\n",
      " [1 1 1 1 1]\n",
      " [0 0 1 0 0]\n",
      " [0 0 1 0 0]]\n"
     ]
    },
    {
     "data": {
      "image/png": "[encoded data removed]",
      "text/plain": [
       "<Figure size 432x288 with 5 Axes>"
      ]
     },
     "metadata": {},
     "output_type": "display_data"
    }
   ],
   "source": [
    "import cv2\n",
    "import matplotlib.pyplot as plt\n",
    "import numpy as np\n",
    "\n",
    "def main():\n",
    "    \n",
    "    path = \"C:\\\\Users\\\\ken\\\\opencv\\\\dataset\\\\\"\n",
    "    \n",
    "    imgpath1 =  path + \"4.1.04.tiff\"\n",
    "    imgpath2 =  path + \"4.1.01.tiff\"\n",
    "    \n",
    "#    imgpath1 =  path + \"4.2.07.tiff\"\n",
    "\n",
    "    img = cv2.imread(imgpath1, 0)\n",
    "    \n",
    "#    img = cv2.cvtColor(img, cv2.COLOR_BGR2RGB)\n",
    "    \n",
    "    th = 0\n",
    "    max_val = 255\n",
    "    \n",
    "    \n",
    "    ret, binary_inv = cv2.threshold(img, th, max_val, cv2.THRESH_BINARY_INV + cv2.THRESH_OTSU )\n",
    "\n",
    "#    k = np.ones((5, 5), np.uint8)\n",
    "\n",
    "#    k = cv2.getStructuringElement(cv2.MORPH_RECT, (5, 5))\n",
    "#    k = cv2.getStructuringElement(cv2.MORPH_ELLIPSE,(5, 5))\n",
    "    k = cv2.getStructuringElement(cv2.MORPH_CROSS,(5, 5))\n",
    "    \n",
    "    erosion = cv2.erode(binary_inv, k, iterations = 1)\n",
    "    \n",
    "    dilation = cv2.dilate(binary_inv, k, iterations = 1)\n",
    "    \n",
    "    gradient = cv2.morphologyEx(binary_inv, cv2.MORPH_GRADIENT, k)\n",
    "    \n",
    "    print(k)\n",
    "    \n",
    "    output = [img, binary_inv, erosion, dilation, gradient]\n",
    "    \n",
    "    titles = ['Original', 'Binary Inv', 'Erosion', 'Dilation', 'Gradient']\n",
    "    \n",
    "    for i in range(5):\n",
    "        plt.subplot(3, 2, i+1)\n",
    "        plt.imshow(output[i], cmap='gray')\n",
    "        plt.title(titles[i])\n",
    "        plt.xticks([])\n",
    "        plt.yticks([])\n",
    "\n",
    "    plt.show()  \n",
    "\n",
    "if __name__ == \"__main__\":\n",
    "    main()"
   ]
  },
  {
   "cell_type": "code",
   "execution_count": null,
   "metadata": {},
   "outputs": [],
   "source": []
  }
 ],
 "metadata": {
  "kernelspec": {
   "display_name": "Python [conda env:opencv3]",
   "language": "python",
   "name": "conda-env-opencv3-py"
  },
  "language_info": {
   "codemirror_mode": {
    "name": "ipython",
    "version": 3
   },
   "file_extension": ".py",
   "mimetype": "text/x-python",
   "name": "python",
   "nbconvert_exporter": "python",
   "pygments_lexer": "ipython3",
   "version": "3.5.5"
  }
 },
 "nbformat": 4,
 "nbformat_minor": 2
}
