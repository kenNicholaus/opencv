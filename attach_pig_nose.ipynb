{
 "cells": [
  {
   "cell_type": "code",
   "execution_count": 1,
   "metadata": {},
   "outputs": [],
   "source": [
    "import cv2\n",
    "import numpy as np\n",
    "import dlib\n",
    "from math import hypot"
   ]
  },
  {
   "cell_type": "code",
   "execution_count": 2,
   "metadata": {},
   "outputs": [],
   "source": [
    "# Loading Camera and Nose image and Creating mask\n",
    "cap = cv2.VideoCapture(0)\n",
    "nose_image = cv2.imread(\"pig_nose.png\")\n",
    "_, frame = cap.read()\n",
    "rows, cols, _ = frame.shape\n",
    "nose_mask = np.zeros((rows, cols), np.uint8)\n",
    "\n",
    "# Loading Face detector\n",
    "detector = dlib.get_frontal_face_detector()\n",
    "predictor = dlib.shape_predictor(\"shape_predictor_68_face_landmarks.dat\")\n",
    "\n",
    "while True:\n",
    "    _, frame = cap.read()\n",
    "    nose_mask.fill(0)\n",
    "    gray_frame = cv2.cvtColor(frame, cv2.COLOR_BGR2GRAY)\n",
    "\n",
    "    faces = detector(frame)\n",
    "    for face in faces:\n",
    "        landmarks = predictor(gray_frame, face)\n",
    "\n",
    "        # Nose coordinates\n",
    "        top_nose = (landmarks.part(29).x, landmarks.part(29).y)\n",
    "        center_nose = (landmarks.part(30).x, landmarks.part(30).y)\n",
    "        left_nose = (landmarks.part(31).x, landmarks.part(31).y)\n",
    "        right_nose = (landmarks.part(35).x, landmarks.part(35).y)\n",
    "\n",
    "        nose_width = int(hypot(left_nose[0] - right_nose[0],\n",
    "                           left_nose[1] - right_nose[1]) * 1.7)\n",
    "        nose_height = int(nose_width * 0.77)\n",
    "\n",
    "        # New nose position\n",
    "        top_left = (int(center_nose[0] - nose_width / 2),\n",
    "                              int(center_nose[1] - nose_height / 2))\n",
    "        bottom_right = (int(center_nose[0] + nose_width / 2),\n",
    "                       int(center_nose[1] + nose_height / 2))\n",
    "\n",
    "\n",
    "        # Adding the new nose\n",
    "        nose_pig = cv2.resize(nose_image, (nose_width, nose_height))\n",
    "        nose_pig_gray = cv2.cvtColor(nose_pig, cv2.COLOR_BGR2GRAY)\n",
    "        _, nose_mask = cv2.threshold(nose_pig_gray, 25, 255, cv2.THRESH_BINARY_INV)\n",
    "\n",
    "        nose_area = frame[top_left[1]: top_left[1] + nose_height,\n",
    "                    top_left[0]: top_left[0] + nose_width]\n",
    "        nose_area_no_nose = cv2.bitwise_and(nose_area, nose_area, mask=nose_mask)\n",
    "        final_nose = cv2.add(nose_area_no_nose, nose_pig)\n",
    "\n",
    "        frame[top_left[1]: top_left[1] + nose_height,\n",
    "                    top_left[0]: top_left[0] + nose_width] = final_nose\n",
    "\n",
    "        cv2.imshow(\"Nose area\", nose_area)\n",
    "        cv2.imshow(\"Nose pig\", nose_pig)\n",
    "        cv2.imshow(\"final nose\", final_nose)\n",
    "\n",
    "\n",
    "\n",
    "    cv2.imshow(\"Frame\", frame)\n",
    "\n",
    "\n",
    "\n",
    "    key = cv2.waitKey(1)\n",
    "    if key == 27:\n",
    "        break"
   ]
  },
  {
   "cell_type": "code",
   "execution_count": null,
   "metadata": {},
   "outputs": [],
   "source": []
  }
 ],
 "metadata": {
  "kernelspec": {
   "display_name": "Python [conda env:opencv3]",
   "language": "python",
   "name": "conda-env-opencv3-py"
  },
  "language_info": {
   "codemirror_mode": {
    "name": "ipython",
    "version": 3
   },
   "file_extension": ".py",
   "mimetype": "text/x-python",
   "name": "python",
   "nbconvert_exporter": "python",
   "pygments_lexer": "ipython3",
   "version": "3.5.5"
  }
 },
 "nbformat": 4,
 "nbformat_minor": 2
}
