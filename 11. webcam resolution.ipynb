{
 "cells": [
  {
   "cell_type": "code",
   "execution_count": 1,
   "metadata": {},
   "outputs": [
    {
     "name": "stdout",
     "output_type": "stream",
     "text": [
      "Width : 640.0\n",
      "Height : 480.0\n",
      "Width : 640.0\n",
      "Height : 360.0\n"
     ]
    }
   ],
   "source": [
    "import cv2\n",
    "\n",
    "def main():\n",
    "    windowName = \"Live Video Feed\"\n",
    "    cv2.namedWindow(windowName)\n",
    "    cap = cv2.VideoCapture(0)\n",
    "    \n",
    "    print('Width : ' + str(cap.get(3)))\n",
    "    print('Height : ' + str(cap.get(4)))\n",
    "    \n",
    "    cap.set(3, 600)\n",
    "    cap.set(4, 400)\n",
    "    \n",
    "    print('Width : ' + str(cap.get(3)))\n",
    "    print('Height : ' + str(cap.get(4)))\n",
    "    \n",
    "    if cap.isOpened():\n",
    "        ret, frame = cap.read()\n",
    "    else:\n",
    "        ret = False\n",
    "\n",
    "    while ret:\n",
    "    \n",
    "        ret, frame = cap.read()\n",
    "        \n",
    "        output = cv2.cvtColor(frame, cv2.COLOR_BGR2GRAY)\n",
    "        \n",
    "        cv2.imshow(\"Gray\", output)\n",
    "        cv2.imshow(windowName, frame)\n",
    "        if cv2.waitKey(1) == 27:\n",
    "            break\n",
    "\n",
    "    cv2.destroyAllWindows()    \n",
    "\n",
    "    cap.release()\n",
    "\n",
    "if __name__ == \"__main__\":\n",
    "    main()"
   ]
  },
  {
   "cell_type": "code",
   "execution_count": null,
   "metadata": {},
   "outputs": [],
   "source": []
  }
 ],
 "metadata": {
  "kernelspec": {
   "display_name": "Python [conda env:opencv3]",
   "language": "python",
   "name": "conda-env-opencv3-py"
  },
  "language_info": {
   "codemirror_mode": {
    "name": "ipython",
    "version": 3
   },
   "file_extension": ".py",
   "mimetype": "text/x-python",
   "name": "python",
   "nbconvert_exporter": "python",
   "pygments_lexer": "ipython3",
   "version": "3.5.5"
  }
 },
 "nbformat": 4,
 "nbformat_minor": 2
}
