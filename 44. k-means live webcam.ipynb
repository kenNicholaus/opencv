{
 "cells": [
  {
   "cell_type": "code",
   "execution_count": 2,
   "metadata": {},
   "outputs": [],
   "source": [
    "import cv2\n",
    "import numpy as np\n",
    "\n",
    "def main():\n",
    "    \n",
    "    w = 800\n",
    "    h = 600\n",
    "    \n",
    "    \n",
    "    cap = cv2.VideoCapture(0)\n",
    "    \n",
    "    cap.set(3, w)\n",
    "    cap.set(4, h)\n",
    "    \n",
    "    if cap.isOpened():\n",
    "        ret, frame = cap.read()\n",
    "    else:\n",
    "        ret = False\n",
    "\n",
    "\n",
    "    while ret:\n",
    "    \n",
    "        ret, frame = cap.read()\n",
    "    \n",
    "        Z = frame.reshape((-1,3))\n",
    "        Z = np.float32(Z)\n",
    "    \n",
    "        criteria = (cv2.TERM_CRITERIA_EPS + cv2.TERM_CRITERIA_MAX_ITER, 10, 1.0)\n",
    "    \n",
    "        K=3\n",
    "        ret, label1, center1 = cv2.kmeans(Z, K, None,\n",
    "                                      criteria, 10, cv2.KMEANS_RANDOM_CENTERS)\n",
    "        center1 = np.uint8(center1)\n",
    "        res1 = center1[label1.flatten()]\n",
    "        output1 = res1.reshape((frame.shape))\n",
    "    \n",
    "        cv2.imshow(\"Original\", frame)\n",
    "        cv2.imshow(\"Quantized\", output1)\n",
    "        if cv2.waitKey(1) == 27: # exit on ESC\n",
    "            break\n",
    "\n",
    "    cv2.destroyAllWindows()\n",
    "    cap.release()\n",
    "\n",
    "if __name__ == \"__main__\":\n",
    "    main()"
   ]
  },
  {
   "cell_type": "code",
   "execution_count": null,
   "metadata": {},
   "outputs": [],
   "source": []
  }
 ],
 "metadata": {
  "kernelspec": {
   "display_name": "Python [conda env:opencv3]",
   "language": "python",
   "name": "conda-env-opencv3-py"
  },
  "language_info": {
   "codemirror_mode": {
    "name": "ipython",
    "version": 3
   },
   "file_extension": ".py",
   "mimetype": "text/x-python",
   "name": "python",
   "nbconvert_exporter": "python",
   "pygments_lexer": "ipython3",
   "version": "3.5.5"
  }
 },
 "nbformat": 4,
 "nbformat_minor": 2
}
