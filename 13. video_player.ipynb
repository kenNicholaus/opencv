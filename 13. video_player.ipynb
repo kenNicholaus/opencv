{
 "cells": [
  {
   "cell_type": "code",
   "execution_count": 7,
   "metadata": {},
   "outputs": [],
   "source": [
    "import cv2\n",
    "\n",
    "def main():\n",
    "    windowName = \"OpenCV Video Player\"\n",
    "    cv2.namedWindow(windowName)\n",
    "    \n",
    "    filename = 'C:\\\\Users\\\\ken\\\\opencv\\\\output\\\\Output.avi'\n",
    "    cap = cv2.VideoCapture(filename)\n",
    "    \n",
    "    \n",
    "    while (cap.isOpened()):\n",
    "    \n",
    "        ret, frame = cap.read()\n",
    "        \n",
    "        #print(ret)\n",
    "        \n",
    "        if ret:\n",
    "            cv2.imshow(windowName, frame)\n",
    "            #1 is 1000 ms, since fps of video was 30fps. it was adjusted for 1000ms by 1000/30=33\n",
    "            #to slow down video you can increase this number to 60 or higher\n",
    "            if cv2.waitKey(60) == 27:\n",
    "                break\n",
    "        else:\n",
    "            break\n",
    "\n",
    "    cv2.destroyAllWindows()    \n",
    "    cap.release()\n",
    "\n",
    "if __name__ == \"__main__\":\n",
    "    main()"
   ]
  },
  {
   "cell_type": "code",
   "execution_count": null,
   "metadata": {},
   "outputs": [],
   "source": []
  }
 ],
 "metadata": {
  "kernelspec": {
   "display_name": "Python [conda env:opencv3]",
   "language": "python",
   "name": "conda-env-opencv3-py"
  },
  "language_info": {
   "codemirror_mode": {
    "name": "ipython",
    "version": 3
   },
   "file_extension": ".py",
   "mimetype": "text/x-python",
   "name": "python",
   "nbconvert_exporter": "python",
   "pygments_lexer": "ipython3",
   "version": "3.5.5"
  }
 },
 "nbformat": 4,
 "nbformat_minor": 2
}
