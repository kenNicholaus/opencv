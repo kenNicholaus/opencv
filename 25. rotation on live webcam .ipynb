{
 "cells": [
  {
   "cell_type": "code",
   "execution_count": 3,
   "metadata": {
    "scrolled": false
   },
   "outputs": [],
   "source": [
    "import cv2\n",
    "import time\n",
    "\n",
    "def main():\n",
    "    \n",
    "    windowName = \"Live Video Feed\"\n",
    "    cv2.namedWindow(windowName)\n",
    "    cap = cv2.VideoCapture(0)\n",
    "    \n",
    "    if cap.isOpened():\n",
    "        ret, frame = cap.read()\n",
    "    else:\n",
    "        ret = False\n",
    "        \n",
    "    rows, columns, channels = frame.shape   \n",
    "    angle = 0\n",
    "#     scale = 0.1\n",
    "    scale = 1     \n",
    "    \n",
    "    while True:\n",
    "        \n",
    "        ret, frame = cap.read()\n",
    "        \n",
    "        if angle == 360:\n",
    "            angle = 0\n",
    "\n",
    "#         angle = 0 \n",
    "       \n",
    "        if scale < 2:\n",
    "            scale = scale + 0.1\n",
    "        \n",
    "        if scale >= 2:\n",
    "            scale = 0.1\n",
    "            \n",
    "        #print(scale)\n",
    "        \n",
    "        R = cv2.getRotationMatrix2D((columns/2, rows/2), angle, scale)\n",
    "        \n",
    "        #print(R)\n",
    "    \n",
    "        output = cv2.warpAffine(frame, R, (columns, rows))\n",
    "    \n",
    "    \n",
    "        cv2.imshow(windowName, output)\n",
    "        angle = angle + 1\n",
    "        time.sleep(0.01)\n",
    "        \n",
    "        if cv2.waitKey(1) == 27:\n",
    "            break\n",
    "        \n",
    "    cv2.destroyWindow(windowName)\n",
    "\n",
    "\n",
    "    cv2.destroyAllWindows()    \n",
    "\n",
    "    cap.release()\n",
    "  \n",
    "\n",
    "\n",
    "if __name__ == \"__main__\":\n",
    "    main()"
   ]
  },
  {
   "cell_type": "code",
   "execution_count": 2,
   "metadata": {
    "scrolled": false
   },
   "outputs": [
    {
     "ename": "AttributeError",
     "evalue": "'NoneType' object has no attribute 'shape'",
     "output_type": "error",
     "traceback": [
      "\u001b[1;31m---------------------------------------------------------------------------\u001b[0m",
      "\u001b[1;31mAttributeError\u001b[0m                            Traceback (most recent call last)",
      "\u001b[1;32m<ipython-input-2-3a1a81d5dfd2>\u001b[0m in \u001b[0;36m<module>\u001b[1;34m()\u001b[0m\n\u001b[0;32m     38\u001b[0m \u001b[1;33m\u001b[0m\u001b[0m\n\u001b[0;32m     39\u001b[0m \u001b[1;32mif\u001b[0m \u001b[0m__name__\u001b[0m \u001b[1;33m==\u001b[0m \u001b[1;34m\"__main__\"\u001b[0m\u001b[1;33m:\u001b[0m\u001b[1;33m\u001b[0m\u001b[0m\n\u001b[1;32m---> 40\u001b[1;33m     \u001b[0mmain\u001b[0m\u001b[1;33m(\u001b[0m\u001b[1;33m)\u001b[0m\u001b[1;33m\u001b[0m\u001b[0m\n\u001b[0m",
      "\u001b[1;32m<ipython-input-2-3a1a81d5dfd2>\u001b[0m in \u001b[0;36mmain\u001b[1;34m()\u001b[0m\n\u001b[0;32m     12\u001b[0m \u001b[1;33m\u001b[0m\u001b[0m\n\u001b[0;32m     13\u001b[0m \u001b[1;33m\u001b[0m\u001b[0m\n\u001b[1;32m---> 14\u001b[1;33m     \u001b[0mrows\u001b[0m\u001b[1;33m,\u001b[0m \u001b[0mcolumns\u001b[0m\u001b[1;33m,\u001b[0m \u001b[0mchannels\u001b[0m \u001b[1;33m=\u001b[0m \u001b[0mimg1\u001b[0m\u001b[1;33m.\u001b[0m\u001b[0mshape\u001b[0m\u001b[1;33m\u001b[0m\u001b[0m\n\u001b[0m\u001b[0;32m     15\u001b[0m \u001b[1;33m\u001b[0m\u001b[0m\n\u001b[0;32m     16\u001b[0m     \u001b[0mangle\u001b[0m \u001b[1;33m=\u001b[0m \u001b[1;36m360\u001b[0m\u001b[1;33m\u001b[0m\u001b[0m\n",
      "\u001b[1;31mAttributeError\u001b[0m: 'NoneType' object has no attribute 'shape'"
     ]
    }
   ],
   "source": [
    "#rotate an image continously\n",
    "import cv2\n",
    "import time\n",
    "\n",
    "def main():\n",
    "    \n",
    "    path = \"C:\\\\Users\\\\ken\\\\opencv\\\\dataset\\\\\"\n",
    "    \n",
    "    imgpath1 =  path + \"4.1.04.tiff\"\n",
    "    imgpath2 =  path + \"4.1.01.tiff\"\n",
    "    img1 = cv2.imread(imgpath1, 1)\n",
    "  \n",
    "    \n",
    "    rows, columns, channels = img1.shape\n",
    "    \n",
    "    angle = 360\n",
    "    \n",
    "    while True:\n",
    "        \n",
    "        if angle == 0:\n",
    "            angle = 360\n",
    "        \n",
    "        R = cv2.getRotationMatrix2D((columns/2, rows/2), angle, 0.5)\n",
    "        \n",
    "        print(R)\n",
    "    \n",
    "        output = cv2.warpAffine(img1, R, (columns, rows))\n",
    "    \n",
    "    \n",
    "        cv2.imshow('Rotated Image', output)\n",
    "        angle = angle - 1\n",
    "        time.sleep(0.01)\n",
    "        \n",
    "        if cv2.waitKey(1) == 27:\n",
    "            break\n",
    "        \n",
    "    cv2.destroyWindow('Rotated Image')\n",
    "\n",
    "if __name__ == \"__main__\":\n",
    "    main()"
   ]
  },
  {
   "cell_type": "code",
   "execution_count": null,
   "metadata": {},
   "outputs": [],
   "source": []
  }
 ],
 "metadata": {
  "kernelspec": {
   "display_name": "Python [conda env:opencv3]",
   "language": "python",
   "name": "conda-env-opencv3-py"
  },
  "language_info": {
   "codemirror_mode": {
    "name": "ipython",
    "version": 3
   },
   "file_extension": ".py",
   "mimetype": "text/x-python",
   "name": "python",
   "nbconvert_exporter": "python",
   "pygments_lexer": "ipython3",
   "version": "3.5.5"
  }
 },
 "nbformat": 4,
 "nbformat_minor": 2
}
