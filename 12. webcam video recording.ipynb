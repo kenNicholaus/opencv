{
 "cells": [
  {
   "cell_type": "code",
   "execution_count": 1,
   "metadata": {},
   "outputs": [],
   "source": [
    "import cv2\n",
    "\n",
    "def main():\n",
    "    \n",
    "    windowName = \"Live Webcam Video Feed Capture\"\n",
    "    cv2.namedWindow(windowName)\n",
    "    \n",
    "    cap = cv2.VideoCapture(0)\n",
    "    \n",
    "    filename = 'C:\\\\Users\\\\ken\\\\opencv\\\\output\\\\Output.avi'\n",
    "    codec = cv2.VideoWriter_fourcc('W', 'M', 'V', '2')\n",
    "    framerate = 30\n",
    "    resolution = (640, 480)\n",
    "    \n",
    "    #fourcc = four character code\n",
    "    #other four cc codes WMV2, WMV1, MJPG, DIVX, XVID, H264\n",
    "    \n",
    "    VideoFileOutput = cv2.VideoWriter(filename, codec, framerate, resolution)\n",
    "    \n",
    "    if cap.isOpened():\n",
    "        ret, frame = cap.read()\n",
    "    else:\n",
    "        ret = False\n",
    "\n",
    "    while ret:\n",
    "    \n",
    "        ret, frame = cap.read()\n",
    "        \n",
    "        frame = cv2.cvtColor(frame, cv2.COLOR_BGR2HSV)\n",
    "        \n",
    "        VideoFileOutput.write(frame)\n",
    "        \n",
    "        cv2.imshow(windowName, frame)\n",
    "        if cv2.waitKey(1) == 27:\n",
    "            break\n",
    "\n",
    "    cv2.destroyAllWindows()    \n",
    "    VideoFileOutput.release()\n",
    "    cap.release()\n",
    "\n",
    "if __name__ == \"__main__\":\n",
    "    main()"
   ]
  },
  {
   "cell_type": "code",
   "execution_count": null,
   "metadata": {},
   "outputs": [],
   "source": []
  }
 ],
 "metadata": {
  "kernelspec": {
   "display_name": "Python [conda env:opencv3]",
   "language": "python",
   "name": "conda-env-opencv3-py"
  },
  "language_info": {
   "codemirror_mode": {
    "name": "ipython",
    "version": 3
   },
   "file_extension": ".py",
   "mimetype": "text/x-python",
   "name": "python",
   "nbconvert_exporter": "python",
   "pygments_lexer": "ipython3",
   "version": "3.5.5"
  }
 },
 "nbformat": 4,
 "nbformat_minor": 2
}
